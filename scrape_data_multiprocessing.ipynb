{
 "cells": [
  {
   "cell_type": "markdown",
   "metadata": {},
   "source": [
    "# Extract Stats from Basketball-Reference.com"
   ]
  },
  {
   "cell_type": "markdown",
   "metadata": {},
   "source": [
    "## Imports, Constants, Utilities"
   ]
  },
  {
   "cell_type": "markdown",
   "metadata": {},
   "source": [
    "### Imports"
   ]
  },
  {
   "cell_type": "code",
   "execution_count": 340,
   "metadata": {},
   "outputs": [
    {
     "name": "stdout",
     "output_type": "stream",
     "text": [
      "CPU times: user 40 µs, sys: 171 µs, total: 211 µs\n",
      "Wall time: 215 µs\n"
     ]
    }
   ],
   "source": [
    "%%time\n",
    "\n",
    "import os\n",
    "import sys\n",
    "import datetime\n",
    "\n",
    "import json\n",
    "import pickle\n",
    "import urllib\n",
    "import pandas as pd\n",
    "import google\n",
    "import random\n",
    "import time\n",
    "import multiprocessing\n",
    "import gspread\n",
    "import unidecode\n",
    "\n",
    "\n",
    "from collections import OrderedDict\n",
    "from gspread import WorksheetNotFound\n",
    "from bs4 import BeautifulSoup\n",
    "from oauth2client.service_account import ServiceAccountCredentials\n",
    "\n",
    "DATETIME_STRING_FORMAT = '%Y-%m-%d %H:%M:%S'"
   ]
  },
  {
   "cell_type": "code",
   "execution_count": 341,
   "metadata": {},
   "outputs": [
    {
     "name": "stdout",
     "output_type": "stream",
     "text": [
      "CPU times: user 11 µs, sys: 9 µs, total: 20 µs\n",
      "Wall time: 22.2 µs\n"
     ]
    }
   ],
   "source": [
    "%%time\n",
    "\n",
    "def merge_list_of_list(nested_list):\n",
    "    flattened_list = [item for lst in nested_list for item in lst]\n",
    "    return flattened_list\n",
    "\n",
    "test_list = [['a'], ['b']]\n",
    "merge_list_of_list(test_list)"
   ]
  },
  {
   "cell_type": "code",
   "execution_count": 342,
   "metadata": {},
   "outputs": [
    {
     "name": "stdout",
     "output_type": "stream",
     "text": [
      "OrderedDict([('kobe bryant', {'tables': {}, 'missing_tables': 'none', 'url': 'godly'}), ('michael jordan', {'tables': {}, 'missing_tables': 'none', 'url': 'diety'})])\n",
      "CPU times: user 146 µs, sys: 83 µs, total: 229 µs\n",
      "Wall time: 184 µs\n"
     ]
    }
   ],
   "source": [
    "%%time\n",
    "\n",
    "# Utility function to merge retrived data tables into 1 dictionary.\n",
    "def merge_list_of_dict(list_of_dict):\n",
    "    merged_dict = {}\n",
    "    for dictionary in list_of_dict:\n",
    "        merged_dict.update(dictionary)\n",
    "    # Sort by dictionary key\n",
    "    ordered_dict = OrderedDict(sorted(merged_dict.items(), key=lambda t: t[0]))\n",
    "    return ordered_dict\n",
    "\n",
    "test_list = [\n",
    "    {'michael jordan': {'tables': {}, 'missing_tables': 'none', 'url': 'diety'}},\n",
    "    {'kobe bryant': {'tables': {}, 'missing_tables': 'none', 'url': 'godly'}},\n",
    "]\n",
    "\n",
    "dic = merge_list_of_dict(test_list)\n",
    "print(dic)"
   ]
  },
  {
   "cell_type": "code",
   "execution_count": 424,
   "metadata": {},
   "outputs": [
    {
     "name": "stdout",
     "output_type": "stream",
     "text": [
      "shaquille oneal\n",
      "kobe bryant\n",
      "vince carter\n"
     ]
    }
   ],
   "source": [
    "%%time\n",
    "\n",
    "def sanitize_string(raw_string):\n",
    "    sanitized_string = unidecode.unidecode(raw_string)\n",
    "    sanitized_string = sanitized_string.strip().lower()\n",
    "    sanitized_string = sanitized_string.replace(\"'\", \"\")\n",
    "    sanitized_string = sanitized_string.replace('\"', '') \n",
    "    sanitized_string = sanitized_string.replace('.', '')\n",
    "    if \",\" in sanitized_string:\n",
    "        lst = sanitized_string.split(\",\")\n",
    "        lst.reverse()\n",
    "        lst = [token.strip() for token in lst]\n",
    "        sanitized_string = \" \".join(lst)\n",
    "    return sanitized_string\n",
    "\n",
    "print(sanitize_string(\"Shaquille O'neal\"))\n",
    "print(sanitize_string(\"Bryant, Kobe\"))\n",
    "print(sanitize_string(\" CarTer, Vince ..\"))"
   ]
  },
  {
   "cell_type": "code",
   "execution_count": 425,
   "metadata": {},
   "outputs": [
    {
     "name": "stdout",
     "output_type": "stream",
     "text": [
      "['shaquille oneal', 'j j reddick', 'vince carter', 'kobe bryant']\n",
      "CPU times: user 262 µs, sys: 254 µs, total: 516 µs\n",
      "Wall time: 373 µs\n"
     ]
    }
   ],
   "source": [
    "%%time\n",
    "\n",
    "def sanitize_list(raw_list):\n",
    "            \n",
    "    sanitized_list = [sanitize_string(raw_string) for raw_string in raw_list]\n",
    "    return sanitized_list\n",
    "\n",
    "test_list = [\"Shaquille O'neal\", \"J. J. Reddick\", \"VinCe Carter \", \"Bryant, Kobe\"]\n",
    "\n",
    "print(sanitize_list(test_list))"
   ]
  },
  {
   "cell_type": "code",
   "execution_count": 344,
   "metadata": {},
   "outputs": [
    {
     "name": "stdout",
     "output_type": "stream",
     "text": [
      "['b', 'a']\n",
      "CPU times: user 604 µs, sys: 763 µs, total: 1.37 ms\n",
      "Wall time: 1.27 ms\n"
     ]
    }
   ],
   "source": [
    "%%time\n",
    "\n",
    "def dedupe_list(lst):\n",
    "    return list(set(lst))\n",
    "\n",
    "print(dedupe_list(['a', 'a', 'a', 'a', 'a', 'a', 'b', 'b', 'b', 'b', 'b', ]))"
   ]
  },
  {
   "cell_type": "markdown",
   "metadata": {},
   "source": [
    "### Load Spreadsheets"
   ]
  },
  {
   "cell_type": "code",
   "execution_count": 345,
   "metadata": {},
   "outputs": [
    {
     "name": "stdout",
     "output_type": "stream",
     "text": [
      "LOADED > 100 rows from spreadsheet: \"test_spreadsheet\" | worksheet: \"test\" | timestamp: 2017-11-21 13:51:46 \n",
      "\n",
      "['michale', 'kobe', '0', '1', '2', '3', '4', '5', '6', '7']\n"
     ]
    }
   ],
   "source": [
    "def load_list_from_worksheet(spreadsheet_name, worksheet_name):\n",
    "  \n",
    "    scope = ['https://spreadsheets.google.com/feeds']\n",
    "    credentials = ServiceAccountCredentials.from_json_keyfile_name('Data-35df9a696bc1.json', scope)\n",
    "    gc = gspread.authorize(credentials)\n",
    "\n",
    "    spreadsheet = gc.open(spreadsheet_name)\n",
    "    worksheet = spreadsheet.worksheet(worksheet_name)\n",
    "\n",
    "    rows = worksheet.get_all_values()\n",
    "    \n",
    "    first_row = rows[0]\n",
    "    first_cell = first_row[0]\n",
    "    \n",
    "    try:\n",
    "        timestamp = datetime.datetime.strptime(first_cell, DATETIME_STRING_FORMAT)\n",
    "        rows.remove(first_row)\n",
    "    except ValueError:\n",
    "        timestamp = None\n",
    "\n",
    "    print(\n",
    "        'LOADED > {num_rows} rows from '\n",
    "        'spreadsheet: \"{spreadsheet_name}\" | '\n",
    "        'worksheet: \"{worksheet_name}\" | '\n",
    "        'timestamp: {timestamp}'.format(\n",
    "            num_rows=len(rows), spreadsheet_name=spreadsheet_name, \n",
    "            worksheet_name=worksheet_name, timestamp=timestamp), '\\n')\n",
    "\n",
    "    df = merge_list_of_list(rows)\n",
    "    \n",
    "    return df\n",
    "\n",
    "worksheet = load_list_from_worksheet('test_spreadsheet', 'test')\n",
    "print(worksheet[:10])"
   ]
  },
  {
   "cell_type": "code",
   "execution_count": 346,
   "metadata": {},
   "outputs": [
    {
     "name": "stdout",
     "output_type": "stream",
     "text": [
      "100\n",
      "Remove 0 rows with \"None\" as their value.\n",
      "SAVED > 100 rows to spreadsheet: \"test_spreadsheet\" | worksheet: \"test\" | timestamp: 2017-11-21 14:38:02.827563 \n",
      "\n",
      "CPU times: user 151 ms, sys: 18.4 ms, total: 169 ms\n",
      "Wall time: 4.08 s\n"
     ]
    }
   ],
   "source": [
    "%%time\n",
    "\n",
    "def save_list_to_worksheet(lst, spreadsheet_name, worksheet_name, add_timestamp=True, overwrite=False):\n",
    "    scope = ['https://spreadsheets.google.com/feeds', 'https://www.googleapis.com/auth/drive']\n",
    "    credentials = ServiceAccountCredentials.from_json_keyfile_name('Data-35df9a696bc1.json', scope)\n",
    "    gc = gspread.authorize(credentials)\n",
    "    \n",
    "    spreadsheet = gc.open(spreadsheet_name)\n",
    "    \n",
    "    if type(lst) is not list:\n",
    "        print('ERROR: input item is not a list!')\n",
    "        return False\n",
    "    \n",
    "    # Remove rows with None value\n",
    "    original_length = len(lst)\n",
    "    lst = [item for item in lst if item is not None]\n",
    "    new_length = len(lst)\n",
    "    \n",
    "    try:\n",
    "        worksheet = spreadsheet.worksheet(worksheet_name)\n",
    "        if overwrite:\n",
    "            new_worksheet_name = worksheet_name + \"_new\"\n",
    "            new_worksheet = spreadsheet.add_worksheet(new_worksheet_name, len(lst), 1)\n",
    "            spreadsheet.del_worksheet(worksheet)\n",
    "            new_worksheet.update_title(worksheet_name)\n",
    "        else:\n",
    "            print('Worksheet \"{worksheet_name}\" already exist! Please set overwrite=True to overwrite.')\n",
    "            return False\n",
    "    except WorksheetNotFound: \n",
    "        new_worksheet = spreadsheet.add_worksheet(worksheet_name, len(lst), 1)\n",
    "    \n",
    "    range_notation = 'A1:A{last_row_index}'.format(last_row_index=len(lst))\n",
    "    \n",
    "    cells_to_update = new_worksheet.range(range_notation)\n",
    "\n",
    "    print('Remove {num_row} rows with \"None\" as their value.'.format(\n",
    "        num_row=(original_length - new_length)))\n",
    "    \n",
    "    for cell, item in zip(cells_to_update, lst):\n",
    "        cell.value = item\n",
    "    \n",
    "    new_worksheet.update_cells(cells_to_update)\n",
    "    \n",
    "    #Add a timestamp in the 1st cell\n",
    "    if add_timestamp:\n",
    "        timestamp = datetime.datetime.now()\n",
    "        new_worksheet.insert_row(\n",
    "            [timestamp], 1)\n",
    "    \n",
    "    print(\n",
    "    'SAVED > {num_rows} rows to '\n",
    "    'spreadsheet: \"{spreadsheet_name}\" | '\n",
    "    'worksheet: \"{worksheet_name}\" | '\n",
    "    'timestamp: {timestamp}'.format(\n",
    "        num_rows=len(lst), spreadsheet_name=spreadsheet_name, \n",
    "        worksheet_name=worksheet_name, timestamp=timestamp), '\\n')\n",
    "    \n",
    "    return True\n",
    "\n",
    "test_lst = ['michale', 'kobe'] + [i for i in range(98)]\n",
    "print(len(test_lst))\n",
    "save_list_to_worksheet(test_lst, 'test_spreadsheet', 'test', add_timestamp=True, overwrite=True)"
   ]
  },
  {
   "cell_type": "markdown",
   "metadata": {},
   "source": [
    "### Save & Load Pickle"
   ]
  },
  {
   "cell_type": "code",
   "execution_count": 347,
   "metadata": {},
   "outputs": [
    {
     "name": "stdout",
     "output_type": "stream",
     "text": [
      "\n",
      "SAVED  >  test.pickle  |  183.8 KiB  |  length:  5 \n",
      "\n",
      "\n",
      "LOADED >  test.pickle  |  183.8 KiB  |  length:  5 \n",
      "\n",
      "CPU times: user 7.76 ms, sys: 2.16 ms, total: 9.92 ms\n",
      "Wall time: 9.13 ms\n"
     ]
    }
   ],
   "source": [
    "%%time\n",
    "\n",
    "test = {\n",
    "    'words': \"\"\"\n",
    "        Lorem ipsum dolor sit amet, consectetur adipiscing \n",
    "        elit. Mauris adipiscing adipiscing placerat. \n",
    "        Vestibulum augue augue, \n",
    "        pellentesque quis sollicitudin id, adipiscing.\n",
    "        \"\"\",\n",
    "    'list': list(range(10000)),\n",
    "    'dict': dict((str(i),'a') for i in range(10000)),\n",
    "    'int': 100,\n",
    "    'float': 100.123456\n",
    "}\n",
    "\n",
    "def sizeof_fmt(num, suffix='B'):\n",
    "    for unit in ['','Ki','Mi','Gi','Ti','Pi','Ei','Zi']:\n",
    "        if abs(num) < 1024.0:\n",
    "            return \"%3.1f %s%s\" % (num, unit, suffix)\n",
    "        num /= 1024.0\n",
    "    return \"%.1f %s%s\" % (num, 'Yi', suffix)\n",
    "\n",
    "def get_file_size(filename):\n",
    "    statinfo = os.stat(filename)\n",
    "    return sizeof_fmt(statinfo.st_size)\n",
    "\n",
    "def save_pickle(dictionary, filename):\n",
    "    with open(filename, 'wb') as file:\n",
    "        pickle.dump(dictionary, file)\n",
    "    print(\n",
    "        '\\n'\n",
    "        'SAVED  > ',\n",
    "        filename, ' | ', \n",
    "        get_file_size(filename), ' | ',\n",
    "        'length: ', len(dictionary),\n",
    "        '\\n')\n",
    "    return True;\n",
    "\n",
    "def load_pickle(filename):\n",
    "    with open(filename, 'rb') as file:\n",
    "        obj = pickle.load(file)\n",
    "        print(\n",
    "        '\\n'\n",
    "        'LOADED > ',\n",
    "        filename, ' | ', \n",
    "        get_file_size(filename), ' | ',\n",
    "        'length: ', len(obj),\n",
    "        '\\n')\n",
    "        return obj\n",
    "\n",
    "save_pickle(test, 'test.pickle')\n",
    "\n",
    "len(load_pickle('test.pickle'))"
   ]
  },
  {
   "cell_type": "markdown",
   "metadata": {},
   "source": [
    "### Define & Load Constants"
   ]
  },
  {
   "cell_type": "code",
   "execution_count": 348,
   "metadata": {},
   "outputs": [
    {
     "name": "stdout",
     "output_type": "stream",
     "text": [
      "LOADED > 181 rows from spreadsheet: \"nba_player_names\" | worksheet: \"hof_names\" | timestamp: None \n",
      "\n",
      "LOADED > 352 rows from spreadsheet: \"nba_player_names\" | worksheet: \"retired_all_stars_names\" | timestamp: None \n",
      "\n",
      "LOADED > 191 rows from spreadsheet: \"nba_player_names\" | worksheet: \"retired_all_nbas_names\" | timestamp: None \n",
      "\n",
      "LOADED > 476 rows from spreadsheet: \"nba_player_names\" | worksheet: \"players_2015_names\" | timestamp: None \n",
      "\n",
      "LOADED > 131 rows from spreadsheet: \"nba_player_urls\" | worksheet: \"hof_urls\" | timestamp: 2017-11-21 13:21:32 \n",
      "\n",
      "LOADED > 352 rows from spreadsheet: \"nba_player_urls\" | worksheet: \"retired_all_stars_urls\" | timestamp: 2017-11-21 13:21:41 \n",
      "\n",
      "LOADED > 190 rows from spreadsheet: \"nba_player_urls\" | worksheet: \"retired_all_nbas_urls\" | timestamp: 2017-11-21 13:21:36 \n",
      "\n",
      "LOADED > 476 rows from spreadsheet: \"nba_player_urls\" | worksheet: \"players_2015_urls\" | timestamp: 2017-11-21 13:21:46 \n",
      "\n",
      "CPU times: user 583 ms, sys: 86.2 ms, total: 669 ms\n",
      "Wall time: 22.4 s\n"
     ]
    }
   ],
   "source": [
    "%%time\n",
    "\n",
    "# Tables to retrieve for each player, by table html ids\n",
    "table_ids = [\n",
    "  'per_game',\n",
    "  'totals',\n",
    "  'per_minute', # per 36 minutes\n",
    "  'per_poss', # per 100 possessions\n",
    "  'advanced', # advanced\n",
    "    \n",
    "  'playoffs_per_game',\n",
    "  'playoffs_totals',\n",
    "  'playoffs_per_minute', # playoffs per 36 minutes\n",
    "  'playoffs_per_poss', # playoffs per 100 possessions\n",
    "  'playoffs_advanced', \n",
    "    \n",
    "  'all_star',\n",
    "  'all_college_stats',\n",
    "  'all_salaries',\n",
    "]\n",
    "\n",
    "# Load player names\n",
    "hof_names = sanitize_list(\n",
    "    load_list_from_worksheet('nba_player_names', 'hof_names'))\n",
    "retired_all_stars_names = sanitize_list(\n",
    "    load_list_from_worksheet('nba_player_names', 'retired_all_stars_names'))\n",
    "retired_all_nbas_names = sanitize_list(\n",
    "    load_list_from_worksheet('nba_player_names', 'retired_all_nbas_names'))\n",
    "players_2015_names = sanitize_list(\n",
    "    load_list_from_worksheet('nba_player_names', 'players_2015_names'))\n",
    "\n",
    "# Load URLs\n",
    "hof_urls = load_list_from_worksheet('nba_player_urls', 'hof_urls')\n",
    "retired_all_stars_urls = load_list_from_worksheet('nba_player_urls', 'retired_all_stars_urls')\n",
    "retired_all_nbas_urls = load_list_from_worksheet('nba_player_urls', 'retired_all_nbas_urls')\n",
    "players_2015_urls = load_list_from_worksheet('nba_player_urls', 'players_2015_urls')"
   ]
  },
  {
   "cell_type": "markdown",
   "metadata": {},
   "source": [
    "## Get Names"
   ]
  },
  {
   "cell_type": "markdown",
   "metadata": {},
   "source": [
    "### Get names from a single URL"
   ]
  },
  {
   "cell_type": "code",
   "execution_count": 427,
   "metadata": {},
   "outputs": [
    {
     "name": "stdout",
     "output_type": "stream",
     "text": [
      "Scrapped https://www.basketball-reference.com/leagues/NBA_1967_totals.html | Players Found: 123\n"
     ]
    }
   ],
   "source": [
    "def get_players(url):\n",
    "    \n",
    "    href_pattern = re.compile('^\\/players\\/.\\/[a-z0-9]*.html$')\n",
    "    href_prefix = 'https://www.basketball-reference.com'\n",
    "    \n",
    "    page = urllib.request.urlopen(url)\n",
    "    html = page.read()\n",
    "\n",
    "    # Get the player name\n",
    "    soup = BeautifulSoup(html, 'html.parser')\n",
    "    \n",
    "    els = soup.find_all('a', href=href_pattern)\n",
    "    \n",
    "    players = {}\n",
    "    \n",
    "    for el in els:\n",
    "        if el.parent.name == 'td':\n",
    "            player_name = sanitize_string(el.text)\n",
    "            player_url = ''.join([href_prefix, el['href']])\n",
    "            players[player_name] = player_url\n",
    "    \n",
    "    print('Scrapped {url} | Players Found: {len}'.format(url=url, len=len(players)))\n",
    "    \n",
    "    return players\n",
    "\n",
    "players = get_players('https://www.basketball-reference.com/leagues/NBA_1967_totals.html')"
   ]
  },
  {
   "cell_type": "code",
   "execution_count": 428,
   "metadata": {},
   "outputs": [
    {
     "data": {
      "text/plain": [
       "{'adrian smith': 'https://www.basketball-reference.com/players/s/smithad01.html',\n",
       " 'al attles': 'https://www.basketball-reference.com/players/a/attleal01.html',\n",
       " 'archie clark': 'https://www.basketball-reference.com/players/c/clarkar01.html',\n",
       " 'bailey howell': 'https://www.basketball-reference.com/players/h/howelba01.html',\n",
       " 'barry clemens': 'https://www.basketball-reference.com/players/c/clemeba01.html',\n",
       " 'ben warley': 'https://www.basketball-reference.com/players/w/warlebe01.html',\n",
       " 'bill bridges': 'https://www.basketball-reference.com/players/b/bridgbi01.html',\n",
       " 'bill melchionni': 'https://www.basketball-reference.com/players/m/melchbi01.html',\n",
       " 'bill russell': 'https://www.basketball-reference.com/players/r/russebi01.html',\n",
       " 'billy cunningham': 'https://www.basketball-reference.com/players/c/cunnibi01.html',\n",
       " 'bob boozer': 'https://www.basketball-reference.com/players/b/boozebo01.html',\n",
       " 'bob ferry': 'https://www.basketball-reference.com/players/f/ferrybo01.html',\n",
       " 'bob hogsett': 'https://www.basketball-reference.com/players/h/hogsebo01.html',\n",
       " 'bob love': 'https://www.basketball-reference.com/players/l/lovebo01.html',\n",
       " 'bob warlick': 'https://www.basketball-reference.com/players/w/warlibo01.html',\n",
       " 'bob weiss': 'https://www.basketball-reference.com/players/w/weissbo01.html',\n",
       " 'bud olsen': 'https://www.basketball-reference.com/players/o/olsenbu01.html',\n",
       " 'cazzie russell': 'https://www.basketball-reference.com/players/r/russeca01.html',\n",
       " 'chet walker': 'https://www.basketball-reference.com/players/w/walkech01.html',\n",
       " 'chico vaughn': 'https://www.basketball-reference.com/players/v/vaughch01.html',\n",
       " 'clyde lee': 'https://www.basketball-reference.com/players/l/leecl01.html',\n",
       " 'connie dierking': 'https://www.basketball-reference.com/players/d/dierkco01.html',\n",
       " 'darrall imhoff': 'https://www.basketball-reference.com/players/i/imhofda01.html',\n",
       " 'dave bing': 'https://www.basketball-reference.com/players/b/bingda01.html',\n",
       " 'dave debusschere': 'https://www.basketball-reference.com/players/d/debusda01.html',\n",
       " 'dave deutsch': 'https://www.basketball-reference.com/players/d/deutsda01.html',\n",
       " 'dave gambee': 'https://www.basketball-reference.com/players/g/gambeda01.html',\n",
       " 'dave schellhase': 'https://www.basketball-reference.com/players/s/schelda01.html',\n",
       " 'dave stallworth': 'https://www.basketball-reference.com/players/s/stallda01.html',\n",
       " 'dick barnett': 'https://www.basketball-reference.com/players/b/barnedi01.html',\n",
       " 'dick snyder': 'https://www.basketball-reference.com/players/s/snydedi01.html',\n",
       " 'dick van arsdale': 'https://www.basketball-reference.com/players/v/vanardi01.html',\n",
       " 'don kojis': 'https://www.basketball-reference.com/players/k/kojisdo01.html',\n",
       " 'don nelson': 'https://www.basketball-reference.com/players/n/nelsodo01.html',\n",
       " 'don ohl': 'https://www.basketball-reference.com/players/o/ohldo01.html',\n",
       " 'dorie murrey': 'https://www.basketball-reference.com/players/m/murredo01.html',\n",
       " 'eddie miles': 'https://www.basketball-reference.com/players/m/milesed01.html',\n",
       " 'elgin baylor': 'https://www.basketball-reference.com/players/b/bayloel01.html',\n",
       " 'em bryant': 'https://www.basketball-reference.com/players/b/bryanem01.html',\n",
       " 'erwin mueller': 'https://www.basketball-reference.com/players/m/mueller01.html',\n",
       " 'flynn robinson': 'https://www.basketball-reference.com/players/r/robinfl01.html',\n",
       " 'fred hetzel': 'https://www.basketball-reference.com/players/h/hetzefr01.html',\n",
       " 'freddie crawford': 'https://www.basketball-reference.com/players/c/crawffr01.html',\n",
       " 'freddie lewis': 'https://www.basketball-reference.com/players/l/lewisfr02.html',\n",
       " 'gail goodrich': 'https://www.basketball-reference.com/players/g/goodrga01.html',\n",
       " 'gene tormohlen': 'https://www.basketball-reference.com/players/t/tormobu01.html',\n",
       " 'george lee': 'https://www.basketball-reference.com/players/l/leege01.html',\n",
       " 'george wilson': 'https://www.basketball-reference.com/players/w/wilsoge01.html',\n",
       " 'gerry ward': 'https://www.basketball-reference.com/players/w/wardge01.html',\n",
       " 'gus johnson': 'https://www.basketball-reference.com/players/j/johnsgu01.html',\n",
       " 'guy rodgers': 'https://www.basketball-reference.com/players/r/rodgegu01.html',\n",
       " 'hal greer': 'https://www.basketball-reference.com/players/g/greerha01.html',\n",
       " 'hank finkel': 'https://www.basketball-reference.com/players/f/finkeha01.html',\n",
       " 'happy hairston': 'https://www.basketball-reference.com/players/h/hairsha01.html',\n",
       " 'henry akin': 'https://www.basketball-reference.com/players/a/akinhe01.html',\n",
       " 'howard komives': 'https://www.basketball-reference.com/players/k/komivho01.html',\n",
       " 'jack marin': 'https://www.basketball-reference.com/players/m/marinja01.html',\n",
       " 'jeff mullins': 'https://www.basketball-reference.com/players/m/mullije01.html',\n",
       " 'jerry chambers': 'https://www.basketball-reference.com/players/c/chambje01.html',\n",
       " 'jerry lucas': 'https://www.basketball-reference.com/players/l/lucasje01.html',\n",
       " 'jerry sloan': 'https://www.basketball-reference.com/players/s/sloanje01.html',\n",
       " 'jerry west': 'https://www.basketball-reference.com/players/w/westje01.html',\n",
       " 'jim barnes': 'https://www.basketball-reference.com/players/b/barneji01.html',\n",
       " 'jim barnett': 'https://www.basketball-reference.com/players/b/barneji02.html',\n",
       " 'jim king': 'https://www.basketball-reference.com/players/k/kingji01.html',\n",
       " 'jim ware': 'https://www.basketball-reference.com/players/w/wareji01.html',\n",
       " 'jim washington': 'https://www.basketball-reference.com/players/w/washiji01.html',\n",
       " 'joe caldwell': 'https://www.basketball-reference.com/players/c/caldwjo01.html',\n",
       " 'joe ellis': 'https://www.basketball-reference.com/players/e/ellisjo01.html',\n",
       " 'joe strawder': 'https://www.basketball-reference.com/players/s/strawjo01.html',\n",
       " 'john barnhill': 'https://www.basketball-reference.com/players/b/barnhjo01.html',\n",
       " 'john block': 'https://www.basketball-reference.com/players/b/blockjo01.html',\n",
       " 'john havlicek': 'https://www.basketball-reference.com/players/h/havlijo01.html',\n",
       " 'john tresvant': 'https://www.basketball-reference.com/players/t/tresvjo01.html',\n",
       " 'johnny austin': 'https://www.basketball-reference.com/players/a/austijo01.html',\n",
       " 'johnny egan': 'https://www.basketball-reference.com/players/e/eganjo01.html',\n",
       " 'johnny green': 'https://www.basketball-reference.com/players/g/greenjo01.html',\n",
       " 'jon mcglocklin': 'https://www.basketball-reference.com/players/m/mcglojo01.html',\n",
       " 'kc jones': 'https://www.basketball-reference.com/players/j/joneskc01.html',\n",
       " 'keith erickson': 'https://www.basketball-reference.com/players/e/erickke01.html',\n",
       " 'kevin loughery': 'https://www.basketball-reference.com/players/l/loughke01.html',\n",
       " 'larry costello': 'https://www.basketball-reference.com/players/c/costela01.html',\n",
       " 'larry siegfried': 'https://www.basketball-reference.com/players/s/siegfla01.html',\n",
       " 'len chappell': 'https://www.basketball-reference.com/players/c/chapple01.html',\n",
       " 'lenny wilkens': 'https://www.basketball-reference.com/players/w/wilkele01.html',\n",
       " 'leroy ellis': 'https://www.basketball-reference.com/players/e/ellisle01.html',\n",
       " 'lou hudson': 'https://www.basketball-reference.com/players/h/hudsolo01.html',\n",
       " 'luke jackson': 'https://www.basketball-reference.com/players/j/jackslu01.html',\n",
       " 'matt guokas': 'https://www.basketball-reference.com/players/g/guokama02.html',\n",
       " 'mccoy mclemore': 'https://www.basketball-reference.com/players/m/mclemmc01.html',\n",
       " 'mel counts': 'https://www.basketball-reference.com/players/c/countme01.html',\n",
       " 'nate bowman': 'https://www.basketball-reference.com/players/b/bowmana01.html',\n",
       " 'nate thurmond': 'https://www.basketball-reference.com/players/t/thurmna01.html',\n",
       " 'neil johnson': 'https://www.basketball-reference.com/players/j/johnsne02.html',\n",
       " 'oscar robertson': 'https://www.basketball-reference.com/players/r/roberos01.html',\n",
       " 'paul neumann': 'https://www.basketball-reference.com/players/n/neumapa01.html',\n",
       " 'paul silas': 'https://www.basketball-reference.com/players/s/silaspa01.html',\n",
       " 'ray scott': 'https://www.basketball-reference.com/players/s/scottra01.html',\n",
       " 'reggie harding': 'https://www.basketball-reference.com/players/h/hardire01.html',\n",
       " 'richie guerin': 'https://www.basketball-reference.com/players/g/gueriri01.html',\n",
       " 'rick barry': 'https://www.basketball-reference.com/players/b/barryri01.html',\n",
       " 'rod thorn': 'https://www.basketball-reference.com/players/t/thornro01.html',\n",
       " 'ron reed': 'https://www.basketball-reference.com/players/r/reedro01.html',\n",
       " 'ron watts': 'https://www.basketball-reference.com/players/w/wattsro01.html',\n",
       " 'rudy larusso': 'https://www.basketball-reference.com/players/l/larusru01.html',\n",
       " 'sam jones': 'https://www.basketball-reference.com/players/j/jonessa01.html',\n",
       " 'toby kimball': 'https://www.basketball-reference.com/players/k/kimbato01.html',\n",
       " 'tom hawkins': 'https://www.basketball-reference.com/players/h/hawkito01.html',\n",
       " 'tom hoover': 'https://www.basketball-reference.com/players/h/hooveto01.html',\n",
       " 'tom meschery': 'https://www.basketball-reference.com/players/m/meschto01.html',\n",
       " 'tom sanders': 'https://www.basketball-reference.com/players/s/sandeto01.html',\n",
       " 'tom van arsdale': 'https://www.basketball-reference.com/players/v/vanarto01.html',\n",
       " 'tommy kron': 'https://www.basketball-reference.com/players/k/kronto01.html',\n",
       " 'wali jones': 'https://www.basketball-reference.com/players/j/joneswa02.html',\n",
       " 'walt bellamy': 'https://www.basketball-reference.com/players/b/bellawa01.html',\n",
       " 'walt hazzard': 'https://www.basketball-reference.com/players/a/abdulma01.html',\n",
       " 'walt wesley': 'https://www.basketball-reference.com/players/w/weslewa01.html',\n",
       " 'wayne embry': 'https://www.basketball-reference.com/players/e/embrywa01.html',\n",
       " 'wayne hightower': 'https://www.basketball-reference.com/players/h/hightwa01.html',\n",
       " 'wayne molis': 'https://www.basketball-reference.com/players/m/moliswa01.html',\n",
       " 'willis reed': 'https://www.basketball-reference.com/players/r/reedwi01.html',\n",
       " 'wilt chamberlain': 'https://www.basketball-reference.com/players/c/chambwi01.html',\n",
       " 'zelmo beaty': 'https://www.basketball-reference.com/players/b/beatyze01.html'}"
      ]
     },
     "execution_count": 428,
     "metadata": {},
     "output_type": "execute_result"
    }
   ],
   "source": [
    "players"
   ]
  },
  {
   "cell_type": "code",
   "execution_count": 429,
   "metadata": {},
   "outputs": [
    {
     "name": "stdout",
     "output_type": "stream",
     "text": [
      "Scrapped https://www.basketball-reference.com/leagues/NBA_2010_totals.html | Players Found: 442\n",
      "Scrapped https://www.basketball-reference.com/leagues/NBA_2015_totals.html | Players Found: 492\n",
      "Scrapped 2 urls, found 716 players. \n",
      "\n",
      "CPU times: user 6.55 ms, sys: 13.2 ms, total: 19.7 ms\n",
      "Wall time: 2.88 s\n"
     ]
    }
   ],
   "source": [
    "%%time\n",
    "\n",
    "def get_players_from_urls(urls, num_processes):\n",
    "    p = multiprocessing.Pool(processes=num_processes)\n",
    "    outputs = p.map(get_players, urls)\n",
    "    p.close()\n",
    "    final_output = merge_list_of_dict(outputs)\n",
    "    print(\n",
    "        'Scrapped {num_url} urls, found {num_player} players.'.format(\n",
    "            num_url=len(urls), num_player=len(final_output)), '\\n')\n",
    "    return final_output\n",
    "\n",
    "test_urls = [\n",
    "    'https://www.basketball-reference.com/leagues/NBA_2015_totals.html',\n",
    "    'https://www.basketball-reference.com/leagues/NBA_2010_totals.html'\n",
    "]\n",
    "\n",
    "players = get_players_from_urls(test_urls, 2)"
   ]
  },
  {
   "cell_type": "code",
   "execution_count": 416,
   "metadata": {},
   "outputs": [
    {
     "data": {
      "text/plain": [
       "'https://www.basketball-reference.com/players/b/brookaa01.html'"
      ]
     },
     "execution_count": 416,
     "metadata": {},
     "output_type": "execute_result"
    }
   ],
   "source": [
    "players['Aaron Brooks']"
   ]
  },
  {
   "cell_type": "code",
   "execution_count": 349,
   "metadata": {},
   "outputs": [
    {
     "name": "stdout",
     "output_type": "stream",
     "text": [
      "Scrapped https://www.basketball-reference.com/leagues/NBA_2015_totals.html | Players Found: 492\n"
     ]
    },
    {
     "data": {
      "text/plain": [
       "492"
      ]
     },
     "execution_count": 349,
     "metadata": {},
     "output_type": "execute_result"
    }
   ],
   "source": [
    "# def get_names(url):\n",
    "#     page = urllib.request.urlopen(url)\n",
    "#     html = page.read()\n",
    "\n",
    "#     # Get the player name\n",
    "#     soup = BeautifulSoup(html, 'html.parser')\n",
    "#     player_names = soup.find_all(attrs={'data-stat': 'player'})\n",
    "#     player_names = [player_name.text for player_name in player_names]\n",
    "    \n",
    "#     # Remove duplicates & unneeded entries\n",
    "#     player_names = list(set(player_names))\n",
    "#     player_names.remove('Player')\n",
    "    \n",
    "#     player_names.sort()\n",
    "    \n",
    "#     print('Scrapped {url} | Players Found: {len}'.format(url=url, len=len(player_names)))\n",
    "    \n",
    "#     return sanitize_list(player_names)\n",
    "\n",
    "# len(get_names('https://www.basketball-reference.com/leagues/NBA_2015_totals.html'))"
   ]
  },
  {
   "cell_type": "markdown",
   "metadata": {},
   "source": [
    "### Get names from a list of URLs"
   ]
  },
  {
   "cell_type": "code",
   "execution_count": 350,
   "metadata": {},
   "outputs": [
    {
     "name": "stdout",
     "output_type": "stream",
     "text": [
      "Scrapped https://www.basketball-reference.com/leagues/NBA_2010_totals.html | Players Found: 442\n",
      "Scrapped https://www.basketball-reference.com/leagues/NBA_2015_totals.html | Players Found: 492\n",
      "Scrapped 2 urls, found 716 players. \n",
      "\n",
      "CPU times: user 7.03 ms, sys: 14.9 ms, total: 22 ms\n",
      "Wall time: 3.19 s\n"
     ]
    }
   ],
   "source": [
    "# %%time\n",
    "\n",
    "# def get_names_from_urls(urls, num_processes):\n",
    "#     p = multiprocessing.Pool(processes=num_processes)\n",
    "#     outputs = p.map(get_names, urls)\n",
    "#     p.close()\n",
    "#     final_output = dedupe_list(merge_list_of_list(outputs))\n",
    "#     print(\n",
    "#         'Scrapped {num_url} urls, found {num_player} players.'.format(\n",
    "#             num_url=len(urls), num_player=len(final_output)), '\\n')\n",
    "#     return final_output\n",
    "\n",
    "# test_urls = [\n",
    "#     'https://www.basketball-reference.com/leagues/NBA_2015_totals.html',\n",
    "#     'https://www.basketball-reference.com/leagues/NBA_2010_totals.html'\n",
    "# ]\n",
    "\n",
    "# names = get_names_from_urls(test_urls, 2)"
   ]
  },
  {
   "cell_type": "markdown",
   "metadata": {},
   "source": [
    "## GET URL"
   ]
  },
  {
   "cell_type": "markdown",
   "metadata": {},
   "source": [
    "### Get URL for a player name"
   ]
  },
  {
   "cell_type": "code",
   "execution_count": 351,
   "metadata": {},
   "outputs": [
    {
     "name": "stdout",
     "output_type": "stream",
     "text": [
      "CPU times: user 18 µs, sys: 42 µs, total: 60 µs\n",
      "Wall time: 68.9 µs\n"
     ]
    }
   ],
   "source": [
    "%%time\n",
    "\n",
    "#TODO(jameshu): Add logic to verify the url returned  in fact matches the player name\n",
    "# Currently, even gibberish player_name e.g. \"James Hu\" would have results returned.\n",
    "\n",
    "def get_url_title(url):\n",
    "    page = urllib.request.urlopen(url)\n",
    "    soup = BeautifulSoup(page, \"html.parser\")\n",
    "    return soup.title.text\n",
    "\n",
    "def get_url(player_name):       \n",
    "    query = (\n",
    "        'site:www.basketball-reference.com/players/*/*.html '\n",
    "        '{player_name} Overview').format(player_name=player_name)\n",
    "    print('query: ', query)\n",
    "\n",
    "    results = google.search(query=query, start=0, stop=1)\n",
    "    urls = list(results)        \n",
    "    \n",
    "    time.sleep(random.randint(5, 10))\n",
    "    \n",
    "    if urls:\n",
    "        return {player_name: urls[0]}\n",
    "    else:\n",
    "        print('url found: None')\n",
    "        return {player_name: None}\n",
    "        \n",
    "# print(get_url('Michael Jordan'))"
   ]
  },
  {
   "cell_type": "markdown",
   "metadata": {},
   "source": [
    "### Get URLs for a list of player names, MULTIPROCESSING"
   ]
  },
  {
   "cell_type": "code",
   "execution_count": 352,
   "metadata": {},
   "outputs": [
    {
     "name": "stdout",
     "output_type": "stream",
     "text": [
      "CPU times: user 30 µs, sys: 559 µs, total: 589 µs\n",
      "Wall time: 600 µs\n"
     ]
    }
   ],
   "source": [
    "%%time\n",
    "\n",
    "def get_urls(player_names, num_processes):\n",
    "    p = multiprocessing.Pool(processes=num_processes)\n",
    "    outputs = p.map(get_url, player_names)\n",
    "    p.close()\n",
    "    return merge_list_of_dict(outputs)\n",
    "\n",
    "# print(get_urls(test_names[0:2], 2))"
   ]
  },
  {
   "cell_type": "markdown",
   "metadata": {},
   "source": [
    "## GET TABLES"
   ]
  },
  {
   "cell_type": "markdown",
   "metadata": {},
   "source": [
    "### Get stats table for an url"
   ]
  },
  {
   "cell_type": "code",
   "execution_count": 353,
   "metadata": {},
   "outputs": [
    {
     "name": "stdout",
     "output_type": "stream",
     "text": [
      "CPU times: user 11 µs, sys: 87 µs, total: 98 µs\n",
      "Wall time: 101 µs\n"
     ]
    }
   ],
   "source": [
    "%%time\n",
    "\n",
    "def get_table(url):\n",
    "    \n",
    "    output = {}\n",
    "    \n",
    "    page = urllib.request.urlopen(url)\n",
    "    urlHtml = page.read().decode()\n",
    "\n",
    "    # Get the player name\n",
    "    soup = BeautifulSoup(urlHtml, \"html.parser\")\n",
    "    player_name = soup.find(\"h1\").text\n",
    "\n",
    "    # Set the url\n",
    "    output.setdefault(player_name, {}).setdefault('url', url);\n",
    "\n",
    "    # Uncomment the tables\n",
    "    uncommentedUrlHtml = urlHtml.replace('-->', '')\n",
    "    uncommentedUrlHtml = uncommentedUrlHtml.replace('<!--', '')\n",
    "\n",
    "    for table_id in table_ids:\n",
    "        list_of_df = []\n",
    "        try:\n",
    "            list_of_df = pd.read_html(\n",
    "                uncommentedUrlHtml, \n",
    "                header=0, \n",
    "                attrs={'id': table_id})\n",
    "        except ValueError as err:\n",
    "            # Set missing_tables\n",
    "            output.setdefault(player_name, {}).setdefault('missing_tables', []).append(table_id)\n",
    "            continue;\n",
    "\n",
    "        # Drop 'Unnamed' columns\n",
    "        for df in list_of_df:\n",
    "          df.drop([col_name for col_name in df.columns if 'Unnamed' in col_name], axis=1, inplace=True)\n",
    "\n",
    "        # Set table\n",
    "        output.setdefault(player_name, {}).setdefault('tables', {}).update({table_id: list_of_df[0]})\n",
    "\n",
    "    # Print processing info\n",
    "    print(player_name, ' | ', url)\n",
    "    print('Tables Found: ', len(output[player_name].get('tables', {})), \n",
    "          ' | missing_tables: ', output[player_name].get('missing_tables', []))\n",
    "    print()\n",
    "\n",
    "    return output\n",
    "\n",
    "# table = get_table('https://www.basketball-reference.com/players/b/bellawa01.html')\n",
    "# print('obj length: ', len(table))"
   ]
  },
  {
   "cell_type": "markdown",
   "metadata": {},
   "source": [
    "### Get stats tables for a list of urls, MULTIPROCESSING"
   ]
  },
  {
   "cell_type": "code",
   "execution_count": 354,
   "metadata": {},
   "outputs": [
    {
     "name": "stdout",
     "output_type": "stream",
     "text": [
      "CPU times: user 16 µs, sys: 74 µs, total: 90 µs\n",
      "Wall time: 93 µs\n"
     ]
    }
   ],
   "source": [
    "%%time\n",
    "\n",
    "from multiprocessing import Pool\n",
    "from functools import partial\n",
    "\n",
    "def get_tables(urls, num_processes):\n",
    "    pool = Pool(processes=num_processes)\n",
    "    outputs = pool.map(get_table, urls)\n",
    "    pool.close()\n",
    "    pool.join()\n",
    "    return merge_list_of_dict(outputs)\n",
    "\n",
    "# tables = get_tables(test_urls, 2)\n",
    "# print('obj length: ', len(tables))"
   ]
  },
  {
   "cell_type": "markdown",
   "metadata": {},
   "source": [
    "## Run Tasks"
   ]
  },
  {
   "cell_type": "markdown",
   "metadata": {},
   "source": [
    "### Get Names"
   ]
  },
  {
   "cell_type": "code",
   "execution_count": 430,
   "metadata": {},
   "outputs": [
    {
     "name": "stdout",
     "output_type": "stream",
     "text": [
      "LOADED > 69 rows from spreadsheet: \"nba_player_names\" | worksheet: \"leads_urls\" | timestamp: None \n",
      "\n",
      "Scrapped https://www.basketball-reference.com/leagues/NBA_1965_totals.html | Players Found: 114\n",
      "Scrapped https://www.basketball-reference.com/leagues/NBA_1960_totals.html | Players Found: 99\n",
      "Scrapped https://www.basketball-reference.com/leagues/NBA_1955_totals.html | Players Found: 105\n",
      "Scrapped https://www.basketball-reference.com/leagues/NBA_1950_totals.html | Players Found: 223\n",
      "Scrapped https://www.basketball-reference.com/leagues/NBA_1966_totals.html | Players Found: 111\n",
      "Scrapped https://www.basketball-reference.com/leagues/NBA_1961_totals.html | Players Found: 93\n",
      "Scrapped https://www.basketball-reference.com/leagues/NBA_1956_totals.html | Players Found: 92\n",
      "Scrapped https://www.basketball-reference.com/leagues/NBA_1951_totals.html | Players Found: 135\n",
      "Scrapped https://www.basketball-reference.com/leagues/NBA_1967_totals.html | Players Found: 123\n",
      "Scrapped https://www.basketball-reference.com/leagues/NBA_1962_totals.html | Players Found: 113\n",
      "Scrapped https://www.basketball-reference.com/leagues/NBA_1957_totals.html | Players Found: 99\n",
      "Scrapped https://www.basketball-reference.com/leagues/NBA_1952_totals.html | Players Found: 116\n",
      "Scrapped https://www.basketball-reference.com/leagues/NBA_1968_totals.html | Players Found: 151\n",
      "Scrapped https://www.basketball-reference.com/leagues/NBA_1963_totals.html | Players Found: 117\n",
      "Scrapped https://www.basketball-reference.com/leagues/NBA_1958_totals.html | Players Found: 99\n",
      "Scrapped https://www.basketball-reference.com/leagues/NBA_1953_totals.html | Players Found: 124\n",
      "Scrapped https://www.basketball-reference.com/leagues/NBA_1969_totals.html | Players Found: 168\n",
      "Scrapped https://www.basketball-reference.com/leagues/NBA_1964_totals.html | Players Found: 111\n",
      "Scrapped https://www.basketball-reference.com/leagues/NBA_1959_totals.html | Players Found: 92\n",
      "Scrapped https://www.basketball-reference.com/leagues/NBA_1954_totals.html | Players Found: 110\n",
      "Scrapped https://www.basketball-reference.com/leagues/NBA_1970_totals.html | Players Found: 171\n",
      "Scrapped https://www.basketball-reference.com/leagues/NBA_1975_totals.html | Players Found: 235\n",
      "Scrapped https://www.basketball-reference.com/leagues/NBA_1985_totals.html | Players Found: 317\n",
      "Scrapped https://www.basketball-reference.com/leagues/NBA_1980_totals.html | Players Found: 286\n",
      "Scrapped https://www.basketball-reference.com/leagues/NBA_1971_totals.html | Players Found: 217\n",
      "Scrapped https://www.basketball-reference.com/leagues/NBA_1976_totals.html | Players Found: 238\n",
      "Scrapped https://www.basketball-reference.com/leagues/NBA_1986_totals.html | Players Found: 322\n",
      "Scrapped https://www.basketball-reference.com/leagues/NBA_1981_totals.html | Players Found: 303\n",
      "Scrapped https://www.basketball-reference.com/leagues/NBA_1972_totals.html | Players Found: 216\n",
      "Scrapped https://www.basketball-reference.com/leagues/NBA_1977_totals.html | Players Found: 295\n",
      "Scrapped https://www.basketball-reference.com/leagues/NBA_1987_totals.html | Players Found: 334\n",
      "Scrapped https://www.basketball-reference.com/leagues/NBA_1982_totals.html | Players Found: 314\n",
      "Scrapped https://www.basketball-reference.com/leagues/NBA_1973_totals.html | Players Found: 214\n",
      "Scrapped https://www.basketball-reference.com/leagues/NBA_1978_totals.html | Players Found: 285\n",
      "Scrapped https://www.basketball-reference.com/leagues/NBA_1988_totals.html | Players Found: 331\n",
      "Scrapped https://www.basketball-reference.com/leagues/NBA_1983_totals.html | Players Found: 314\n",
      "Scrapped https://www.basketball-reference.com/leagues/NBA_1974_totals.html | Players Found: 221\n",
      "Scrapped https://www.basketball-reference.com/leagues/NBA_1979_totals.html | Players Found: 279\n",
      "Scrapped https://www.basketball-reference.com/leagues/NBA_1989_totals.html | Players Found: 352\n",
      "Scrapped https://www.basketball-reference.com/leagues/NBA_1984_totals.html | Players Found: 309\n",
      "Scrapped https://www.basketball-reference.com/leagues/NBA_1990_totals.html | Players Found: 380\n",
      "Scrapped https://www.basketball-reference.com/leagues/NBA_1995_totals.html | Players Found: 406\n",
      "Scrapped https://www.basketball-reference.com/leagues/NBA_2000_totals.html | Players Found: 439\n",
      "Scrapped https://www.basketball-reference.com/leagues/NBA_2005_totals.html | Players Found: 464\n",
      "Scrapped https://www.basketball-reference.com/leagues/NBA_1991_totals.html | Players Found: 386\n",
      "Scrapped https://www.basketball-reference.com/leagues/NBA_1996_totals.html | Players Found: 428\n",
      "Scrapped https://www.basketball-reference.com/leagues/NBA_2001_totals.html | Players Found: 441\n",
      "Scrapped https://www.basketball-reference.com/leagues/NBA_2006_totals.html | Players Found: 458\n",
      "Scrapped https://www.basketball-reference.com/leagues/NBA_1992_totals.html | Players Found: 386\n",
      "Scrapped https://www.basketball-reference.com/leagues/NBA_1997_totals.html | Players Found: 441\n",
      "Scrapped https://www.basketball-reference.com/leagues/NBA_2002_totals.html | Players Found: 440\n",
      "Scrapped https://www.basketball-reference.com/leagues/NBA_2007_totals.html | Players Found: 458\n",
      "Scrapped https://www.basketball-reference.com/leagues/NBA_1993_totals.html | Players Found: 390\n",
      "Scrapped https://www.basketball-reference.com/leagues/NBA_1998_totals.html | Players Found: 439\n",
      "Scrapped https://www.basketball-reference.com/leagues/NBA_2003_totals.html | Players Found: 428\n",
      "Scrapped https://www.basketball-reference.com/leagues/NBA_2008_totals.html | Players Found: 450\n",
      "Scrapped https://www.basketball-reference.com/leagues/NBA_1994_totals.html | Players Found: 403\n",
      "Scrapped https://www.basketball-reference.com/leagues/NBA_1999_totals.html | Players Found: 440\n",
      "Scrapped https://www.basketball-reference.com/leagues/NBA_2004_totals.html | Players Found: 442\n",
      "Scrapped https://www.basketball-reference.com/leagues/NBA_2009_totals.html | Players Found: 444\n",
      "Scrapped https://www.basketball-reference.com/leagues/NBA_2010_totals.html | Players Found: 442\n",
      "Scrapped https://www.basketball-reference.com/leagues/NBA_2015_totals.html | Players Found: 492\n",
      "Scrapped https://www.basketball-reference.com/leagues/NBA_2011_totals.html | Players Found: 452\n",
      "Scrapped https://www.basketball-reference.com/leagues/NBA_2016_totals.html | Players Found: 476\n",
      "Scrapped https://www.basketball-reference.com/leagues/NBA_2012_totals.html | Players Found: 478\n",
      "Scrapped https://www.basketball-reference.com/leagues/NBA_2017_totals.html | Players Found: 486\n",
      "Scrapped https://www.basketball-reference.com/leagues/NBA_2013_totals.html | Players Found: 468\n",
      "Scrapped https://www.basketball-reference.com/leagues/NBA_2018_totals.html | Players Found: 449\n",
      "Scrapped https://www.basketball-reference.com/leagues/NBA_2014_totals.html | Players Found: 481\n",
      "Scrapped 69 urls, found 3998 players. \n",
      "\n",
      "CPU times: user 146 ms, sys: 77.6 ms, total: 224 ms\n",
      "Wall time: 1min 14s\n"
     ]
    }
   ],
   "source": [
    "%%time\n",
    "\n",
    "leads_urls = load_list_from_worksheet('nba_player_names', 'leads_urls')\n",
    "\n",
    "all_players = get_players_from_urls(leads_urls, 4)"
   ]
  },
  {
   "cell_type": "code",
   "execution_count": 431,
   "metadata": {},
   "outputs": [
    {
     "data": {
      "text/plain": [
       "'https://www.basketball-reference.com/players/j/jordami01.html'"
      ]
     },
     "execution_count": 431,
     "metadata": {},
     "output_type": "execute_result"
    }
   ],
   "source": [
    "all_players['michael jordan']"
   ]
  },
  {
   "cell_type": "code",
   "execution_count": 432,
   "metadata": {},
   "outputs": [
    {
     "data": {
      "text/plain": [
       "3998"
      ]
     },
     "execution_count": 432,
     "metadata": {},
     "output_type": "execute_result"
    }
   ],
   "source": [
    "len(all_players)"
   ]
  },
  {
   "cell_type": "markdown",
   "metadata": {},
   "source": [
    "### Get Urls"
   ]
  },
  {
   "cell_type": "code",
   "execution_count": 12,
   "metadata": {},
   "outputs": [],
   "source": [
    "# worksheet = load_list_from_worksheet('nba_players_sanitized', 'hof')\n",
    "# hof_names = sanitize_list(worksheet[0].tolist())\n",
    "# print(hof_names)\n",
    "\n",
    "# hof_urls = get_urls(hof_names, 30)"
   ]
  },
  {
   "cell_type": "code",
   "execution_count": 13,
   "metadata": {},
   "outputs": [],
   "source": [
    "# worksheet = load_list_from_worksheet('nba_players_sanitized', 'retired_all_stars')\n",
    "# retired_all_stars_names = sanitize_list(worksheet[0].tolist())\n",
    "# print(retired_all_stars_names)\n",
    "\n",
    "# retired_all_stars_urls = get_urls(retired_all_stars_names, 30)"
   ]
  },
  {
   "cell_type": "code",
   "execution_count": 14,
   "metadata": {},
   "outputs": [],
   "source": [
    "# worksheet = load_list_from_worksheet('nba_players_sanitized', 'retired_all_nbas')\n",
    "# retired_all_nbas_names = sanitize_list(worksheet[0].tolist())\n",
    "# print(retired_all_nbas_names)\n",
    "\n",
    "# retired_all_nbas_urls = get_urls(retired_all_nbas_names, 30)"
   ]
  },
  {
   "cell_type": "code",
   "execution_count": 15,
   "metadata": {},
   "outputs": [],
   "source": [
    "# worksheet = load_list_from_worksheet('nba_players_sanitized', '2015')\n",
    "# players_2015_names = sanitize_list(worksheet[0].tolist())\n",
    "# print(players_2015_names)\n",
    "\n",
    "# players_2015_urls = get_urls(players_2015_names, 30)"
   ]
  },
  {
   "cell_type": "code",
   "execution_count": 16,
   "metadata": {},
   "outputs": [],
   "source": [
    "# save_pickle(hof_urls, 'hof_urls.pickle')\n",
    "# save_pickle(retired_all_stars_urls, 'retired_all_stars_urls.pickle')\n",
    "# save_pickle(retired_all_nbas_urls, 'retired_all_nbas_urls.pickle')\n",
    "# save_pickle(players_2015_urls, 'players_2015_urls.pickle')"
   ]
  },
  {
   "cell_type": "code",
   "execution_count": 238,
   "metadata": {},
   "outputs": [
    {
     "name": "stdout",
     "output_type": "stream",
     "text": [
      "Remove 50 rows with \"None\" as their value.\n",
      "SAVED > 131 rows to spreadsheet: \"nba_player_urls\" | worksheet: \"hof_urls\" | timestamp: 2017-11-21 13:21:31.733691 \n",
      "\n",
      "Remove 0 rows with \"None\" as their value.\n",
      "SAVED > 190 rows to spreadsheet: \"nba_player_urls\" | worksheet: \"retired_all_nbas_urls\" | timestamp: 2017-11-21 13:21:35.894669 \n",
      "\n",
      "Remove 0 rows with \"None\" as their value.\n",
      "SAVED > 352 rows to spreadsheet: \"nba_player_urls\" | worksheet: \"retired_all_stars_urls\" | timestamp: 2017-11-21 13:21:40.841957 \n",
      "\n",
      "Remove 0 rows with \"None\" as their value.\n",
      "SAVED > 476 rows to spreadsheet: \"nba_player_urls\" | worksheet: \"players_2015_urls\" | timestamp: 2017-11-21 13:21:46.229754 \n",
      "\n",
      "CPU times: user 864 ms, sys: 89.2 ms, total: 953 ms\n",
      "Wall time: 19 s\n"
     ]
    }
   ],
   "source": [
    "# %%time\n",
    "\n",
    "# save_list_to_worksheet(list(hof_urls.values()), 'nba_player_urls', 'hof_urls', overwrite=True)\n",
    "# save_list_to_worksheet(list(retired_all_nbas_urls.values()), 'nba_player_urls', 'retired_all_nbas_urls', overwrite=True)\n",
    "# save_list_to_worksheet(list(retired_all_stars_urls.values()), 'nba_player_urls', 'retired_all_stars_urls', overwrite=True)\n",
    "# save_list_to_worksheet(list(players_2015_urls.values()), 'nba_player_urls', 'players_2015_urls', overwrite=True)"
   ]
  },
  {
   "cell_type": "markdown",
   "metadata": {},
   "source": [
    "## Get Tables"
   ]
  },
  {
   "cell_type": "code",
   "execution_count": 17,
   "metadata": {
    "collapsed": true
   },
   "outputs": [],
   "source": [
    "# %%time\n",
    "\n",
    "# url_list = [url for url in hof_urls.values() if url is not None]\n",
    "# print(len(url_list))\n",
    "# hof_tables = get_tables(url_list, 4)\n",
    "# save_pickle(hof_tables, 'hof_tables.pickle')"
   ]
  },
  {
   "cell_type": "code",
   "execution_count": 18,
   "metadata": {
    "collapsed": true
   },
   "outputs": [],
   "source": [
    "# %%time\n",
    "\n",
    "# url_list = [url for url in retired_all_nbas_urls.values() if url is not None]\n",
    "# print(len(url_list))\n",
    "# retired_all_nbas_tables = get_tables(url_list, 4)\n",
    "# save_pickle(retired_all_nbas_tables, 'retired_all_nbas_tables.pickle')"
   ]
  },
  {
   "cell_type": "code",
   "execution_count": 19,
   "metadata": {
    "collapsed": true
   },
   "outputs": [],
   "source": [
    "# %%time\n",
    "\n",
    "# url_list = [url for url in retired_all_stars_urls.values() if url is not None]\n",
    "# print(len(url_list))\n",
    "# retired_all_stars_tables = get_tables(url_list, 4)\n",
    "# save_pickle(retired_all_stars_tables, 'retired_all_stars_tables.pickle')"
   ]
  },
  {
   "cell_type": "code",
   "execution_count": 20,
   "metadata": {
    "collapsed": true
   },
   "outputs": [],
   "source": [
    "# %%time\n",
    "\n",
    "# url_list = [url for url in players_2015_urls.values() if url is not None]\n",
    "# print(len(url_list))\n",
    "# players_2015_tables = get_tables(url_list, 4)\n",
    "# save_pickle(players_2015_tables, 'players_2015_tables.pickle')"
   ]
  }
 ],
 "metadata": {
  "kernelspec": {
   "display_name": "Python 3",
   "language": "python",
   "name": "python3"
  },
  "language_info": {
   "codemirror_mode": {
    "name": "ipython",
    "version": 3
   },
   "file_extension": ".py",
   "mimetype": "text/x-python",
   "name": "python",
   "nbconvert_exporter": "python",
   "pygments_lexer": "ipython3",
   "version": "3.6.3"
  }
 },
 "nbformat": 4,
 "nbformat_minor": 2
}
